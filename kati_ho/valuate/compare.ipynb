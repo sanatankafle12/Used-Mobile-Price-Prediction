{
 "cells": [
  {
   "cell_type": "code",
   "execution_count": 2,
   "metadata": {},
   "outputs": [],
   "source": [
    "import pandas as pd"
   ]
  },
  {
   "cell_type": "code",
   "execution_count": 13,
   "metadata": {},
   "outputs": [],
   "source": []
  },
  {
   "cell_type": "code",
   "execution_count": 34,
   "metadata": {},
   "outputs": [
    {
     "name": "stdout",
     "output_type": "stream",
     "text": [
      "Both have similar ram\n",
      "Apple Iphone 11 more is expensive than Xiaomi Redmi Note 11\n",
      "Both have similar storage\n",
      "Apple Iphone 11 has better condition than Xiaomi Redmi Note 11.\n",
      "Xiaomi Redmi Note 11 has better battery than Apple Iphone 11.\n",
      "Both have similar front-cam\n",
      "Xiaomi Redmi Note 11 has better back-cam than Apple Iphone 11.\n",
      "Apple Iphone 11 has better display than Xiaomi Redmi Note 11.\n",
      "Both have similar res\n",
      "2\n",
      "3\n"
     ]
    }
   ],
   "source": [
    "def compare(phone1,phone2):\n",
    "    phone_1_score = 0\n",
    "    phone_2_score = 0\n",
    "    phone_compared_list = []\n",
    "    brand_1 = phone_1['Brand']\n",
    "    model_1 = phone_1['Model']\n",
    "    brand_2 = phone_2['Brand']\n",
    "    model_2 = phone_2['Model']\n",
    "    gaming_score = 0\n",
    "    photography_score = 0\n",
    "    general_score = 0\n",
    "    for i in phone_1:\n",
    "        if(i=='Brand' or i == \"Model\"):\n",
    "            continue\n",
    "        if(i == 'Price'):\n",
    "            if(phone_1[i]>phone_2[i]):\n",
    "                phone_2_score +=1\n",
    "                phone_compared_list.append(f'{brand_1} {model_1} more is expensive than {brand_2} {model_2}')\n",
    "            elif(phone_1[i]<phone_2[i]):\n",
    "                phone_1_score +=1\n",
    "                phone_compared_list.append(f'{phone_2} is expensive than {phone_1}')\n",
    "            else:\n",
    "                phone_compared_list.append('Both are equally priced.')\n",
    "        elif(phone_1[i]>phone_2[i]):\n",
    "            phone_compared_list.append(f'{brand_1} {model_1} has better {i.lower()} than {brand_2} {model_2}.')\n",
    "            phone_1_score+=1\n",
    "        elif(phone_2[i]>phone_1[i]):\n",
    "            phone_compared_list.append(f'{brand_2} {model_2} has better {i.lower()} than {brand_1} {model_1}.')\n",
    "            phone_2_score+=1\n",
    "        else:\n",
    "            phone_compared_list.append(f'Both have similar {i.lower()}')\n",
    "\n",
    "    phone_compared_list[0] = brand_1 + model_1 + str(phone_1_score)\n",
    "    phone_compared_list[1] = brand_1 + model_2 + str(phone_2_score)\n",
    "    return(phone_compared_list)"
   ]
  },
  {
   "cell_type": "code",
   "execution_count": null,
   "metadata": {},
   "outputs": [],
   "source": []
  },
  {
   "cell_type": "code",
   "execution_count": 8,
   "metadata": {},
   "outputs": [
    {
     "name": "stdout",
     "output_type": "stream",
     "text": [
      "Sorry, we could not find a brand that meets your preferences.\n"
     ]
    }
   ],
   "source": [
    "\n",
    "pros_cons = {\n",
    "    'Apple': {'pros':['High-quality products','Strong privacy and security','Innovative technology','Great customer service','Strong ecosystem'],\n",
    "              'cons':['Lack of alternate apps', 'fragile design','Highly Expensive','Limited Customization']},\n",
    "    'Samsung': {'pros':['wide range of devices', 'large displays', 'durable', 'customization options', 'good camera', 'good battery life','Great lifespan'],\n",
    "                'cons':['bloatware and duplicated apps','Questionable software updates','Fragile design']},\n",
    "    'Xiaomi': {'pros':['Affordable price','Good quality camera','High battery life','Wide product range','Value for money'],\n",
    "              'cons':['ads and bloatware', 'regional avaibility','Build quality isuues','Not the best lifespan']},\n",
    "    'Poco': {'pros':['Affordable price','Good quality camerab','Innovative technology','Great customer service','Strong ecosystem'],\n",
    "              'cons':['Lack of alternate apps', 'fragile design','Highly Expensive','Limited Customization']},\n",
    "    'Oppo': {'pros':['High-quality products','Strong privacy and security','Innovative technology','Great customer service','Strong ecosystem'],\n",
    "              'cons':['Lack of alternate apps', 'fragile design','Highly Expensive','Limited Customization']},\n",
    "    'Vivo': {'pros':['High-quality products','Strong privacy and security','Innovative technology','Great customer service','Strong ecosystem'],\n",
    "              'cons':['Lack of alternate apps', 'fragile design','Highly Expensive','Limited Customization']},\n",
    "    'Realme': {'pros':['High-quality products','Strong privacy and security','Innovative technology','Great customer service','Strong ecosystem'],\n",
    "              'cons':['Lack of alternate apps', 'fragile design','Highly Expensive','Limited Customization']},\n",
    "    'Huawei': {'pros':['High-quality products','Strong privacy and security','Innovative technology','Great customer service','Strong ecosystem'],\n",
    "              'cons':['Lack of alternate apps', 'fragile design','Highly Expensive','Limited Customization']},\n",
    "    'Oneplus': {'pros':['High-quality products','Strong privacy and security','Innovative technology','Great customer service','Strong ecosystem'],\n",
    "              'cons':['Lack of alternate apps', 'fragile design','Highly Expensive','Limited Customization']},\n",
    "}"
   ]
  },
  {
   "cell_type": "code",
   "execution_count": 9,
   "metadata": {},
   "outputs": [
    {
     "name": "stdout",
     "output_type": "stream",
     "text": [
      "Common brand characteristics of Apple and Xiaomi: good camera, good battery life\n",
      "Ram: 6 (same)\n",
      "Storage: 128 (same)\n",
      "Condition: Used vs New\n",
      "Brand: Apple vs Xiaomi\n",
      "Model: Iphone 11 vs Redmi Note 11\n",
      "Battery: 4500 vs 5000\n",
      "Front-cam: 12 (same)\n",
      "Back-cam: 12 vs 50\n",
      "display: 6.4 vs 6\n",
      "res: 828x1729 (same)\n",
      "\n",
      "Xiaomi Redmi Note 11 is better than Apple Iphone 11\n"
     ]
    }
   ],
   "source": [
    "brand_chars = {\n",
    "    'Apple': ['high quality', 'security', 'long lifespan', 'Lack of alternate apps', 'fragile','good camera', 'good battery life','Highly Expensive','Limited Customization'],\n",
    "    'Xiaomi': ['affordable', 'good battery life', 'focus on innovation', 'good camera']\n",
    "}\n",
    "\n",
    "# Function to compare phone specifications\n",
    "def compare_phones(phone_1, phone_2):\n",
    "    # Compare brand characteristics\n",
    "    brand_1 = phone_1['Brand']\n",
    "    brand_2 = phone_2['Brand']\n",
    "    if brand_1 in brand_chars and brand_2 in brand_chars:\n",
    "        common_chars = set(brand_chars[brand_1]).intersection(set(brand_chars[brand_2]))\n",
    "        print(f\"Common brand characteristics of {brand_1} and {brand_2}: {', '.join(common_chars)}\")\n",
    "    \n",
    "    # Compare phone specifications\n",
    "    score_1 = 0\n",
    "    score_2 = 0\n",
    "    for key in phone_1:\n",
    "        if key in phone_2:\n",
    "            if phone_1[key] == phone_2[key]:\n",
    "                print(f\"{key}: {phone_1[key]} (same)\")\n",
    "            else:\n",
    "                print(f\"{key}: {phone_1[key]} vs {phone_2[key]}\")\n",
    "                if isinstance(phone_1[key], int) or isinstance(phone_1[key], float):\n",
    "                    if phone_1[key] > phone_2[key]:\n",
    "                        score_1 += 1\n",
    "                    elif phone_1[key] < phone_2[key]:\n",
    "                        score_2 += 1\n",
    "                    \n",
    "    if score_1 > score_2:\n",
    "        print(f\"\\n{phone_1['Brand']} {phone_1['Model']} is better than {phone_2['Brand']} {phone_2['Model']}\")\n",
    "    elif score_2 > score_1:\n",
    "        print(f\"\\n{phone_2['Brand']} {phone_2['Model']} is better than {phone_1['Brand']} {phone_1['Model']}\")\n",
    "    else:\n",
    "        print(\"\\nBoth phones have similar specifications\")\n",
    "compare_phones(phone_1,phone_2)"
   ]
  },
  {
   "cell_type": "code",
   "execution_count": 3,
   "metadata": {},
   "outputs": [
    {
     "name": "stdout",
     "output_type": "stream",
     "text": [
      "Attributes of 'Apple':\n",
      "- high quality is described as high quality\n",
      "- security is described as security\n",
      "- long lifespan is described as long lifespan\n",
      "- Lack of alternate apps is described as alternate Lack, apps\n",
      "- fragile is described as fragile \n",
      "- good camera is described as good camera\n",
      "- good battery life is described as good battery, life\n",
      "- Highly Expensive is described as Highly, Expensive \n",
      "- Limited Customization is described as \n"
     ]
    }
   ],
   "source": [
    "import spacy\n",
    "\n",
    "# Load the pre-trained English language model\n",
    "nlp = spacy.load('en_core_web_sm')\n",
    "\n",
    "# Define the word and its attributes\n",
    "word = 'Apple'\n",
    "attributes = ['high quality', 'security', 'long lifespan', 'Lack of alternate apps', 'fragile','good camera', 'good battery life','Highly Expensive','Limited Customization']\n",
    "\n",
    "# Define the function to describe the attributes\n",
    "def describe_attributes(word, attributes):\n",
    "    # Tokenize the word and its attributes\n",
    "    doc = nlp(word)\n",
    "    attribute_docs = [nlp(attr) for attr in attributes]\n",
    "    \n",
    "    # Extract the adjectives and adverbs describing the word\n",
    "    word_adjectives = [token.text for token in doc if token.pos_ in ['ADJ', 'ADV']]\n",
    "    \n",
    "    # Extract the nouns describing the attributes\n",
    "    attribute_nouns = [[token.text for token in attr_doc if token.pos_ == 'NOUN'] for attr_doc in attribute_docs]\n",
    "    \n",
    "    # Print the descriptions of the attributes\n",
    "    print(f\"Attributes of '{word}':\")\n",
    "    for i, attribute in enumerate(attributes):\n",
    "        adjectives = [token.text for token in attribute_docs[i] if token.pos_ in ['ADJ', 'ADV']]\n",
    "        nouns = attribute_nouns[i]\n",
    "        if adjectives:\n",
    "            print(f\"- {attribute} is described as {', '.join(adjectives)} {', '.join(nouns)}\")\n",
    "        else:\n",
    "            print(f\"- {attribute} is described as {', '.join(nouns)}\")\n",
    "\n",
    "# Call the function to describe the attributes of 'Apple'\n",
    "describe_attributes(word, attributes)\n"
   ]
  },
  {
   "cell_type": "code",
   "execution_count": 1,
   "metadata": {},
   "outputs": [
    {
     "name": "stdout",
     "output_type": "stream",
     "text": [
      "This phone has a durable design and is cheaper compared to other models, but may not have the same brand value as more well-known brands.\n",
      "If you're looking for a phone with a durable lifespan that won't break the bank, this phone is a great choice. However, keep in mind that it may not have the same level of brand recognition as more popular models.\n",
      "With a budget-friendly price tag and a long-lasting design, this phone offers great value for its price. While it may not have the same brand recognition as other models, its features make it a solid choice for budget-conscious consumers.\n"
     ]
    }
   ],
   "source": [
    "import random\n",
    "\n",
    "lifespan = ['long-lasting', 'durable', 'has a good lifespan']\n",
    "cost = ['budget-friendly', 'affordable', 'cheaper']\n",
    "brand = ['less known', 'not as popular', 'has a lower brand value']\n",
    "\n",
    "# Generate three sentences with different structures\n",
    "sentences = [\n",
    "    f\"This phone has a {random.choice(lifespan)} design and is {random.choice(cost)} compared to other models, but may not have the same brand value as more well-known brands.\",\n",
    "    f\"If you're looking for a phone with a {random.choice(lifespan)} lifespan that won't break the bank, this phone is a great choice. However, keep in mind that it may not have the same level of brand recognition as more popular models.\",\n",
    "    f\"With a {random.choice(cost)} price tag and a {random.choice(lifespan)} design, this phone offers great value for its price. While it may not have the same brand recognition as other models, its features make it a solid choice for budget-conscious consumers.\"\n",
    "]\n",
    "\n",
    "# Print the generated sentences\n",
    "for sentence in sentences:\n",
    "    print(sentence)"
   ]
  },
  {
   "cell_type": "code",
   "execution_count": 29,
   "metadata": {},
   "outputs": [
    {
     "name": "stdout",
     "output_type": "stream",
     "text": [
      "If you're looking for a phone with a longevity lifespan that won't break the bank, this phone is cost. However, keep in mind that its brand may not be as well-known.\n"
     ]
    },
    {
     "name": "stderr",
     "output_type": "stream",
     "text": [
      "[nltk_data] Downloading package wordnet to\n",
      "[nltk_data]     C:\\Users\\sanatan\\AppData\\Roaming\\nltk_data...\n",
      "[nltk_data]   Package wordnet is already up-to-date!\n"
     ]
    },
    {
     "ename": "IndexError",
     "evalue": "Cannot choose from an empty sequence",
     "output_type": "error",
     "traceback": [
      "\u001b[1;31m---------------------------------------------------------------------------\u001b[0m",
      "\u001b[1;31mIndexError\u001b[0m                                Traceback (most recent call last)",
      "Cell \u001b[1;32mIn[29], line 31\u001b[0m\n\u001b[0;32m     29\u001b[0m \u001b[39m# Print the generated sentences\u001b[39;00m\n\u001b[0;32m     30\u001b[0m \u001b[39mfor\u001b[39;00m i \u001b[39min\u001b[39;00m \u001b[39mrange\u001b[39m(\u001b[39m3\u001b[39m):\n\u001b[1;32m---> 31\u001b[0m     sentence \u001b[39m=\u001b[39m generate_sentence(keywords)\n\u001b[0;32m     32\u001b[0m     \u001b[39mprint\u001b[39m(sentence)\n",
      "Cell \u001b[1;32mIn[29], line 26\u001b[0m, in \u001b[0;36mgenerate_sentence\u001b[1;34m(keywords)\u001b[0m\n\u001b[0;32m     24\u001b[0m     word \u001b[39m=\u001b[39m random\u001b[39m.\u001b[39mchoice(values)\n\u001b[0;32m     25\u001b[0m     synonyms \u001b[39m=\u001b[39m [syn\u001b[39m.\u001b[39mlemma_names()[\u001b[39m0\u001b[39m] \u001b[39mfor\u001b[39;00m syn \u001b[39min\u001b[39;00m wordnet\u001b[39m.\u001b[39msynsets(word)]\n\u001b[1;32m---> 26\u001b[0m     sentence \u001b[39m=\u001b[39m sentence\u001b[39m.\u001b[39mreplace(\u001b[39m\"\u001b[39m\u001b[39m{\u001b[39m\u001b[39m%s\u001b[39;00m\u001b[39m}\u001b[39m\u001b[39m\"\u001b[39m \u001b[39m%\u001b[39m key, word)\u001b[39m.\u001b[39mreplace(\u001b[39m\"\u001b[39m\u001b[39m{\u001b[39m\u001b[39m%s\u001b[39;00m\u001b[39m_syn}\u001b[39m\u001b[39m\"\u001b[39m \u001b[39m%\u001b[39m key, random\u001b[39m.\u001b[39;49mchoice(synonyms))\n\u001b[0;32m     27\u001b[0m \u001b[39mreturn\u001b[39;00m sentence\n",
      "File \u001b[1;32mC:\\Program Files\\WindowsApps\\PythonSoftwareFoundation.Python.3.8_3.8.2800.0_x64__qbz5n2kfra8p0\\lib\\random.py:290\u001b[0m, in \u001b[0;36mRandom.choice\u001b[1;34m(self, seq)\u001b[0m\n\u001b[0;32m    288\u001b[0m     i \u001b[39m=\u001b[39m \u001b[39mself\u001b[39m\u001b[39m.\u001b[39m_randbelow(\u001b[39mlen\u001b[39m(seq))\n\u001b[0;32m    289\u001b[0m \u001b[39mexcept\u001b[39;00m \u001b[39mValueError\u001b[39;00m:\n\u001b[1;32m--> 290\u001b[0m     \u001b[39mraise\u001b[39;00m \u001b[39mIndexError\u001b[39;00m(\u001b[39m'\u001b[39m\u001b[39mCannot choose from an empty sequence\u001b[39m\u001b[39m'\u001b[39m) \u001b[39mfrom\u001b[39;00m \u001b[39mNone\u001b[39m\n\u001b[0;32m    291\u001b[0m \u001b[39mreturn\u001b[39;00m seq[i]\n",
      "\u001b[1;31mIndexError\u001b[0m: Cannot choose from an empty sequence"
     ]
    }
   ],
   "source": [
    "import random\n",
    "from nltk.corpus import wordnet\n",
    "import nltk\n",
    "nltk.download('wordnet')\n",
    "\n",
    "# Define keywords and their synonyms\n",
    "keywords = {\n",
    "    'lifespan': [ 'longevity', 'durability', 'long-lasting'],\n",
    "    'cost': ['cost', 'price', 'affordability', 'budget-friendliness', 'cheaper'],\n",
    "    'brand': ['brand', 'reputation', 'popularity', 'brand value', 'known']\n",
    "}\n",
    "\n",
    "# Define possible sentence structures\n",
    "structures = [\n",
    "    \"This phone has a {lifespan} design and is {cost} compared to other models, but its {brand} may not be as high.\",\n",
    "    \"If you're looking for a phone with a {lifespan} lifespan that won't break the bank, this phone is {cost}. However, keep in mind that its {brand} may not be as well-known.\",\n",
    "    \"With a {cost} price tag and a {lifespan} design, this phone offers great value for its price. While its {brand} may not be as popular as other models, its features make it a solid choice for budget-conscious consumers.\"\n",
    "]\n",
    "\n",
    "# Generate a sentence using the provided keywords\n",
    "def generate_sentence(keywords):\n",
    "    sentence = random.choice(structures)\n",
    "    for key, values in keywords.items():\n",
    "        word = random.choice(values)\n",
    "        synonyms = [syn.lemma_names()[0] for syn in wordnet.synsets(word)]\n",
    "        sentence = sentence.replace(\"{%s}\" % key, word).replace(\"{%s_syn}\" % key, random.choice(synonyms))\n",
    "    return sentence\n",
    "\n",
    "# Print the generated sentences\n",
    "for i in range(3):\n",
    "    sentence = generate_sentence(keywords)\n",
    "    print(sentence)"
   ]
  }
 ],
 "metadata": {
  "kernelspec": {
   "display_name": "Python 3",
   "language": "python",
   "name": "python3"
  },
  "language_info": {
   "codemirror_mode": {
    "name": "ipython",
    "version": 3
   },
   "file_extension": ".py",
   "mimetype": "text/x-python",
   "name": "python",
   "nbconvert_exporter": "python",
   "pygments_lexer": "ipython3",
   "version": "3.8.10"
  },
  "orig_nbformat": 4,
  "vscode": {
   "interpreter": {
    "hash": "916dbcbb3f70747c44a77c7bcd40155683ae19c65e1c03b4aa3499c5328201f1"
   }
  }
 },
 "nbformat": 4,
 "nbformat_minor": 2
}
